{
 "cells": [
  {
   "cell_type": "code",
   "execution_count": null,
   "id": "fce710ac",
   "metadata": {},
   "outputs": [],
   "source": [
    "''''\n",
    "************  Dependencies *************\n",
    "1. pip install opencv-python\n",
    "2. pip install datetime\n",
    "\n",
    "''''\n",
    "'''\n",
    "This Program captures a photo whenever the described key is pressed.\n",
    "\n",
    "-Firstly I've defined a key and whenever that key will be pressed a photo will be taken and will save it in the defined directly.\n",
    "-Next I've used opencv-python(cv2) for opening camera of the device.\n",
    "-Next in the for loop the iif condition is frist checking if the key pressed is the defined key or not by checking its ascii value. \n",
    " and comparing it to the defined key's ascii value.\n",
    "-Furethermore I've used datetime for unique name of images and I'm doinng this because python will overwrite the previous images \n",
    " with the same name everytime a new iamge is clicked so to prevent that I'm adding date and time to the image name so that every \n",
    " image will have a unique name.\n",
    "-Also user can take multiple images in one go because we'ce defined a key for exiting the program also so unless thast key is \n",
    " pressed user can takee multiple immages"
   ]
  },
  {
   "cell_type": "code",
   "execution_count": 4,
   "id": "4e859418",
   "metadata": {},
   "outputs": [],
   "source": [
    "import os"
   ]
  },
  {
   "cell_type": "code",
   "execution_count": 5,
   "id": "62e480b2",
   "metadata": {},
   "outputs": [],
   "source": [
    "import cv2"
   ]
  },
  {
   "cell_type": "code",
   "execution_count": 10,
   "id": "1c413186",
   "metadata": {},
   "outputs": [],
   "source": [
    "from datetime import datetime\n",
    "\n",
    "key = 'p'\n",
    "directory = 'M:\\photocap'\n",
    "\n",
    "capture = cv2.VideoCapture(0)\n",
    "\n",
    "count = 0\n",
    "if not capture.isOpened():\n",
    "    print(\"Error opening camera\")\n",
    "    exit()\n",
    "    \n",
    "while True:    \n",
    "    ret, frame = capture.read()\n",
    "    if ret:\n",
    "        cv2.imshow('Camera', frame)\n",
    "        if cv2.waitKey(1) & 0xFF == ord(key):\n",
    "            filename = f\"photo_{datetime.now().strftime('%Y%m%d_%H%M%S')}_{count}.jpg\"\n",
    "            filepath = os.path.join(directory, filename)\n",
    "            cv2.imwrite(filepath, frame)\n",
    "            count += 1\n",
    "    if cv2.waitKey(1) & 0xFF == ord('q'):\n",
    "        break\n",
    "\n",
    "\n",
    "capture.release()\n",
    "cv2.destroyAllWindows()"
   ]
  }
 ],
 "metadata": {
  "kernelspec": {
   "display_name": "env1",
   "language": "python",
   "name": "env1"
  },
  "language_info": {
   "codemirror_mode": {
    "name": "ipython",
    "version": 3
   },
   "file_extension": ".py",
   "mimetype": "text/x-python",
   "name": "python",
   "nbconvert_exporter": "python",
   "pygments_lexer": "ipython3",
   "version": "3.11.3"
  }
 },
 "nbformat": 4,
 "nbformat_minor": 5
}
